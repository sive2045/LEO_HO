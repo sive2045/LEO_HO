{
 "cells": [
  {
   "cell_type": "code",
   "execution_count": 1,
   "metadata": {},
   "outputs": [],
   "source": [
    "import numpy as np"
   ]
  },
  {
   "attachments": {},
   "cell_type": "markdown",
   "metadata": {},
   "source": [
    "1. Free space path loss: https://en.wikipedia.org/wiki/Free-space_path_loss\n",
    "2. Shadow Fading loss: avg -> 1\n",
    "3. Anttena Gain: 30 dBi"
   ]
  },
  {
   "cell_type": "code",
   "execution_count": 3,
   "metadata": {},
   "outputs": [],
   "source": [
    "# 1. Free space path loss: https://en.wikipedia.org/wiki/Free-space_path_loss\n",
    "d = 500 # [km]\n",
    "f = 14 # [14 GHz]\n",
    "FSPL = 20 * np.log10(d) + 20 * np.log10(f) + 92.45 # [dB]\n",
    "\n",
    "# 2. Shadow Fading loss: avg -> 1\n",
    "shadow = 1\n",
    "\n",
    "# 3. Anttena Gain: 30 dBi: 논문 참조 joint ~, IEEE Access\n",
    "anttena_gain = 30 # [dBi]\n",
    "\n",
    "# 4. Noise temperatur of LEO -> 550 K convert to Noise: https://www.everythingrf.com/rf-calculators/noise-temperature-noise-figure-calculator\n",
    "noise_temperature = 550\n",
    "noise_power = 10 * np.log10(noise_temperature / 290 + 1) # [dB]"
   ]
  },
  {
   "cell_type": "code",
   "execution_count": 2,
   "metadata": {},
   "outputs": [],
   "source": [
    "def cal_signal_power(SAT, GS, coverage_indicator, freq, speed):\n",
    "    \"\"\"\n",
    "    return uplink signal power\n",
    "\n",
    "    shadow faiding loss -> avg 1\n",
    "    \"\"\"\n",
    "    anttena_gain = 30 # [dBi]\n",
    "    GS_Tx_power = 23e-3 # 23 dBm\n",
    "\n",
    "    GS_signal_power = np.zeros(len(GS))\n",
    "    for i in range(len(GS)):\n",
    "            for j in range(len(SAT)):\n",
    "                if coverage_indicator[i][j]:\n",
    "                    dist = np.linalg.norm(GS[i,0:2] - SAT[j,0:2]) # 2-dim \n",
    "                    f = freq * np.abs(speed) * (dist / (GS[i,0]-SAT[i,0])) / (3e5) # Doppler shift !단위 주의!\n",
    "                    FSPL = 20 * np.log10(dist) + 20 * np.log10(f) + 92.45 # [dB], free space path loss\n",
    "                    GS_signal_power[i] = GS_Tx_power * (FSPL + anttena_gain)\n",
    "\n",
    "    return GS_signal_power"
   ]
  },
  {
   "cell_type": "code",
   "execution_count": 3,
   "metadata": {},
   "outputs": [],
   "source": [
    "def cal_SINR(GS_index, SAT_serviced_indicator, signal_power, noise_temperature = 550):\n",
    "    \"\"\"\n",
    "    Input parameter:\n",
    "        noise_temperature: 550 [K]\n",
    "    return uplink SINR\n",
    "    \"\"\"\n",
    "    SINR = 0 # [dB]\n",
    "    \n",
    "    noise_power = 10 * np.log10(noise_temperature / 290 + 1) # [dB]\n",
    "\n",
    "    if len(SAT_serviced_indicator > 1):\n",
    "        interference = np.sum(signal_power[SAT_serviced_indicator]) - signal_power[GS_index]\n",
    "        SINR = signal_power[GS_index] / (interference + noise_power)\n",
    "    else:\n",
    "        SINR = signal_power[GS_index] / noise_power\n",
    "    \n",
    "    return SINR\n",
    "\n"
   ]
  },
  {
   "cell_type": "code",
   "execution_count": null,
   "metadata": {},
   "outputs": [],
   "source": []
  }
 ],
 "metadata": {
  "kernelspec": {
   "display_name": "Python 3.8.16 ('MADL')",
   "language": "python",
   "name": "python3"
  },
  "language_info": {
   "codemirror_mode": {
    "name": "ipython",
    "version": 3
   },
   "file_extension": ".py",
   "mimetype": "text/x-python",
   "name": "python",
   "nbconvert_exporter": "python",
   "pygments_lexer": "ipython3",
   "version": "3.8.16"
  },
  "orig_nbformat": 4,
  "vscode": {
   "interpreter": {
    "hash": "e962fd0c4c0760769e63252c4a395697b377d590c687511dc0420415a53f8c19"
   }
  }
 },
 "nbformat": 4,
 "nbformat_minor": 2
}
